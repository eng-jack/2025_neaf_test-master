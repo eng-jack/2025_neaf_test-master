{
 "cells": [
  {
   "cell_type": "code",
   "execution_count": null,
   "id": "0f783c67",
   "metadata": {},
   "outputs": [
    {
     "data": {
      "image/png": "[encoded data removed]",
      "text/plain": [
       "<Figure size 1200x600 with 6 Axes>"
      ]
     },
     "metadata": {},
     "output_type": "display_data"
    },
    {
     "data": {
      "text/html": [
       "<div>\n",
       "<style scoped>\n",
       "    .dataframe tbody tr th:only-of-type {\n",
       "        vertical-align: middle;\n",
       "    }\n",
       "\n",
       "    .dataframe tbody tr th {\n",
       "        vertical-align: top;\n",
       "    }\n",
       "\n",
       "    .dataframe thead th {\n",
       "        text-align: right;\n",
       "    }\n",
       "</style>\n",
       "<table border=\"1\" class=\"dataframe\">\n",
       "  <thead>\n",
       "    <tr style=\"text-align: right;\">\n",
       "      <th></th>\n",
       "      <th>Color</th>\n",
       "      <th>Max</th>\n",
       "      <th>Min</th>\n",
       "      <th>Mean</th>\n",
       "      <th>Std</th>\n",
       "    </tr>\n",
       "  </thead>\n",
       "  <tbody>\n",
       "    <tr>\n",
       "      <th>0</th>\n",
       "      <td>Red</td>\n",
       "      <td>84</td>\n",
       "      <td>0</td>\n",
       "      <td>40.98</td>\n",
       "      <td>24.433371</td>\n",
       "    </tr>\n",
       "    <tr>\n",
       "      <th>1</th>\n",
       "      <td>Green</td>\n",
       "      <td>84</td>\n",
       "      <td>1</td>\n",
       "      <td>42.89</td>\n",
       "      <td>23.872953</td>\n",
       "    </tr>\n",
       "    <tr>\n",
       "      <th>2</th>\n",
       "      <td>Blue</td>\n",
       "      <td>84</td>\n",
       "      <td>0</td>\n",
       "      <td>39.82</td>\n",
       "      <td>24.704202</td>\n",
       "    </tr>\n",
       "  </tbody>\n",
       "</table>\n",
       "</div>"
      ],
      "text/plain": [
       "   Color  Max  Min   Mean        Std\n",
       "0    Red   84    0  40.98  24.433371\n",
       "1  Green   84    1  42.89  23.872953\n",
       "2   Blue   84    0  39.82  24.704202"
      ]
     },
     "execution_count": 1,
     "metadata": {},
     "output_type": "execute_result"
    }
   ],
   "source": [
    "import numpy as np\n",
    "import pandas as pd\n",
    "import matplotlib.pyplot as plt\n",
    "\n",
    "# 生成rgb三種顏色的10*20圖片\n",
    "# 需要彩色和黑白的 (總共要印6張圖)\n",
    "# 顏色深淺用random決定\n",
    "# 計算每張圖的平均值、標準差、最大值、最小值 存成excel檔\n",
    "# 以下是範例\n",
    "\n",
    "# 提示 img=np.random.randint(?,?, size=(?,?,?), dtype=np.uint8)\n",
    "# 印出來看看 img[:,:,1]=0 長怎樣 是什麼顏色\n",
    "\n"
   ]
  },
  {
   "cell_type": "code",
   "execution_count": null,
   "id": "9f3d0940",
   "metadata": {},
   "outputs": [],
   "source": []
  }
 ],
 "metadata": {
  "kernelspec": {
   "display_name": "base",
   "language": "python",
   "name": "python3"
  },
  "language_info": {
   "codemirror_mode": {
    "name": "ipython",
    "version": 3
   },
   "file_extension": ".py",
   "mimetype": "text/x-python",
   "name": "python",
   "nbconvert_exporter": "python",
   "pygments_lexer": "ipython3",
   "version": "3.13.5"
  }
 },
 "nbformat": 4,
 "nbformat_minor": 5
}
